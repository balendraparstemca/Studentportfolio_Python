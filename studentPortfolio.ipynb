{
 "cells": [
  {
   "cell_type": "markdown",
   "id": "d48a09d2",
   "metadata": {},
   "source": [
    "# Project 1.0"
   ]
  },
  {
   "cell_type": "markdown",
   "id": "f3e1dc48",
   "metadata": {},
   "source": [
    "# Student Portfolio"
   ]
  },
  {
   "cell_type": "code",
   "execution_count": 3,
   "id": "1abe042d",
   "metadata": {},
   "outputs": [
    {
     "name": "stdout",
     "output_type": "stream",
     "text": [
      "Enter the name of the student: Balendra kumar paraste\n",
      "Enter the class: 12th\n",
      "Enter the section: c\n",
      "Enter the roll number: 12345\n",
      "Enter the marks obtained in Mathematics: 99\n",
      "Enter the marks obtained in Physics: 98\n",
      "Enter the marks obtained in Chemistry: 89\n",
      "Enter the marks obtained in Hindi: 99\n",
      "Enter the marks obtained in English: 90\n",
      "\n",
      "\t\t\t\t\t--STUDENT PORTFOLIO--\n",
      "****************************************************************************************************\n",
      "*                                                                                                  *\n",
      "*                                         Central Board Of Secondary Education                     *\n",
      "*   Name of the student: Balendra kumar paraste*\n",
      "*   Class:  12th  -  c\n",
      "*   Roll number:  12345\n",
      "*   --------------------------------------------------------------------------------------------   *\n",
      "*   | SN                       SUBJECT                       MARKS(100)                        |   *\n",
      "*   --------------------------------------------------------------------------------------------   *\n",
      "*   | 1                       Mathematics                       99                             |   *\n",
      "*   | 2                       Physics                           98                             |   *\n",
      "*   | 3                       chemistry                         89                             |   *\n",
      "*   | 4                       Hindi                             99                             |   *\n",
      "*   | 5                       English                           90                             |   *\n",
      "*   --------------------------------------------------------------------------------------------   *\n",
      "*   |Total:  475 /500\n",
      "*   --------------------------------------------------------------------------------------------   *\n",
      "*   |Percentage:  95.0 %                                                             *\n",
      "*   --------------------------------------------------------------------------------------------   *\n",
      "*   |Result:  Pass (Distinction*)                                                             *\n",
      "*   --------------------------------------------------------------------------------------------   *\n",
      "****************************************************************************************************\n"
     ]
    }
   ],
   "source": [
    "name = input(\"Enter the name of the student: \")\n",
    "std = input(\"Enter the class: \")\n",
    "sec = input(\"Enter the section: \")\n",
    "rollNo = int(input(\"Enter the roll number: \"))\n",
    "maths = int(input(\"Enter the marks obtained in Mathematics: \"))\n",
    "phy = int(input(\"Enter the marks obtained in Physics: \"))\n",
    "chem = int(input(\"Enter the marks obtained in Chemistry: \"))\n",
    "hindi = int(input(\"Enter the marks obtained in Hindi: \"))\n",
    "eng = int(input(\"Enter the marks obtained in English: \"))\n",
    "stud_total_marks = maths+phy+chem+hindi+eng\n",
    "stud_percentage = round(stud_total_marks/500 * 100,2)\n",
    "print(\"\\n\\t\\t\\t\\t\\t--STUDENT PORTFOLIO--\")\n",
    "\n",
    "print(\"*\"*100)\n",
    "print(\"* \" + \" \"*96 + \" *\")\n",
    "print(\"* \" + \" \"*40 + \"Central Board Of Secondary Education\" + \" \"*21 + \"*\")\n",
    "print(\"*   Name of the student: \"+ name + \" \" * (len(name) - 56) + \"*\")\n",
    "print(\"*   Class: \",std,\" - \",sec)\n",
    "print(\"*   Roll number: \",rollNo)\n",
    "print(\"*   \" + \"-\"*92 + \"   *\")\n",
    "print(\"*   | \" + \"SN\"  + \" \"*23  + \"SUBJECT\"  + \" \"*23  + \"MARKS(100)\"  +  \" \"*23 +  \" |   *\")\n",
    "print(\"*   \" + \"-\"*92 + \"   *\")\n",
    "print(\"*   | \" + \"1\"  + \" \"*23  + \"Mathematics\"  + \" \"*23  + str(maths)  +  \" \"*28 +  \" |   *\")\n",
    "print(\"*   | \" + \"2\"  + \" \"*23  + \"Physics\"  + \" \"*27  + str(phy)  +  \" \"*28 +  \" |   *\")\n",
    "print(\"*   | \" + \"3\"  + \" \"*23  + \"chemistry\"  + \" \"*25  + str(chem)  +  \" \"*28 +  \" |   *\")\n",
    "print(\"*   | \" + \"4\"  + \" \"*23  + \"Hindi\"  + \" \"*29  + str(hindi)  +  \" \"*28 +  \" |   *\")\n",
    "print(\"*   | \" + \"5\"  + \" \"*23  + \"English\"  + \" \"*27  + str(eng)  +  \" \"*28 +  \" |   *\")\n",
    "print(\"*   \" + \"-\"*92 + \"   *\")\n",
    "print(\"*   |Total: \",maths+phy+chem+hindi+eng,\"/500\")\n",
    "print(\"*   \" + \"-\"*92 + \"   *\")\n",
    "print(\"*   |Percentage: \",stud_percentage,\"%\" + \" \"*61 + \"*\")\n",
    "print(\"*   \" + \"-\"*92 + \"   *\")\n",
    "if(stud_percentage>=75): \n",
    "  result='Pass (Distinction*)'\n",
    "elif stud_percentage >=60 and  stud_percentage< 75:\n",
    "  result='Pass (First Class*)'\n",
    "elif (stud_percentage>35 and stud_percentage<60):\n",
    "  result='Pass (Second class)'\n",
    "else:\n",
    "  result='Fail'\n",
    "print(\"*   |Result: \",result + \" \"*61 + \"*\")\n",
    "print(\"*   \" + \"-\"*92 + \"   *\")\n",
    "print(\"*\"*100)\n"
   ]
  },
  {
   "cell_type": "code",
   "execution_count": null,
   "id": "47936ff2",
   "metadata": {},
   "outputs": [],
   "source": []
  }
 ],
 "metadata": {
  "kernelspec": {
   "display_name": "Python 3 (ipykernel)",
   "language": "python",
   "name": "python3"
  },
  "language_info": {
   "codemirror_mode": {
    "name": "ipython",
    "version": 3
   },
   "file_extension": ".py",
   "mimetype": "text/x-python",
   "name": "python",
   "nbconvert_exporter": "python",
   "pygments_lexer": "ipython3",
   "version": "3.10.0"
  }
 },
 "nbformat": 4,
 "nbformat_minor": 5
}
